{
  "nbformat": 4,
  "nbformat_minor": 0,
  "metadata": {
    "colab": {
      "provenance": [],
      "authorship_tag": "ABX9TyPkmW8Vy+cHxiCirlw9QBCz",
      "include_colab_link": true
    },
    "kernelspec": {
      "name": "python3",
      "display_name": "Python 3"
    },
    "language_info": {
      "name": "python"
    }
  },
  "cells": [
    {
      "cell_type": "markdown",
      "metadata": {
        "id": "view-in-github",
        "colab_type": "text"
      },
      "source": [
        "<a href=\"https://colab.research.google.com/github/Cheffsiito/Python/blob/main/hangman.ipynb\" target=\"_parent\"><img src=\"https://colab.research.google.com/assets/colab-badge.svg\" alt=\"Open In Colab\"/></a>"
      ]
    },
    {
      "cell_type": "markdown",
      "source": [
        "\n",
        "\n",
        "Alguien:\n",
        "\n",
        "\n",
        "Pedir la palabra (maquina esocge una letra)\n",
        "\n",
        "Ingresar letra\n",
        "\n",
        "\n",
        "Di acierta se acompleta con la letra que corresponda\n",
        "\n",
        "Si se equivoca se quita una vida\n",
        "\n",
        "\n",
        "\n",
        "Si acerta todas las letras el jugador gana\n"
      ],
      "metadata": {
        "id": "2Q8Lqyv9g8kV"
      }
    },
    {
      "cell_type": "code",
      "execution_count": null,
      "metadata": {
        "id": "HFvTpGM1g7Nw"
      },
      "outputs": [],
      "source": [
        "import random\n",
        "from words import list\n",
        "\n",
        "print(list[0:5])\n",
        "\n",
        "def get_valid_word(list):\n",
        "  word = random.choice(list)\n",
        "  return word.upper()\n",
        "\n",
        "get_valid_word(list)\n",
        "\n",
        "letter_A={'A','B','C','D','E'}\n",
        "letter_B={'A','B'}\n",
        "\n",
        "print(letter_A-letter_B)\n",
        "\n",
        "import string\n",
        "\n",
        "def hangman():\n",
        "  word=get_valid_word(list)\n",
        "  print(\"disclaimer: this code does not appear in the game:\",word)\n",
        "  print(\"your letters is:\",'_ '*len(word))\n",
        "  words_letters=set(word)\n",
        "  alphabet=set(string.ascii_uppercase)\n",
        "  used_letter=set()\n",
        "\n",
        "  while len(words_letters)>0:\n",
        "    word_list=[letter if letter in used_letter else \"_\" for letter in word]\n",
        "\n",
        "    user_letter= input(\"gues a letter\").upper()\n",
        "  if user_letter in alphabet -used_letter:\n",
        "    used_letter.add(user_letter)\n",
        "  if used_letter in words_letters:\n",
        "    words_letters.remove(user_letter)\n",
        "\n",
        "  elif user_letter in used_letter:\n",
        "    print(\"the letter have been udes, please try again\")\n",
        "  else:\n",
        "    print(\"inavlid\")\n",
        "\n",
        "    print(words_letters)\n",
        "    print(used_letter)\n",
        "    print(user_letter)\n",
        "\n",
        "\n",
        "hangman()\n"
      ]
    }
  ]
}