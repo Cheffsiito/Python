{
  "metadata": {
    "kernelspec": {
      "name": "python",
      "display_name": "Python (Pyodide)",
      "language": "python"
    },
    "language_info": {
      "codemirror_mode": {
        "name": "python",
        "version": 3
      },
      "file_extension": ".py",
      "mimetype": "text/x-python",
      "name": "python",
      "nbconvert_exporter": "python",
      "pygments_lexer": "ipython3",
      "version": "3.8"
    }
  },
  "nbformat_minor": 4,
  "nbformat": 4,
  "cells": [
    {
      "cell_type": "code",
      "source": "Odd or even\n\ndef main():\n    while True:\n        try:\n            number = int(input(\"¡Hola! ¿Qué número estás pensando entre 1 y 1000?: \"))\n            if 1 <= number <= 1000:\n                if number % 2 == 0:\n                    print(\"¡Ese es un número par!\")\n                else:\n                    print(\"¡Ese es un número impar!\")\n            else:\n                print(\"Por favor, introduce un número entre 1 y 1000.\")\n        except ValueError:\n            print(\"Por favor, introduce un número válido.\")\n\n        choice = input(\"¿Quieres intentarlo de nuevo? (s/n): \")\n        if choice.lower() != 's':\n            break\n\nif __name__ == \"__main__\":\n    main()\n",
      "metadata": {
        "trusted": true
      },
      "outputs": [],
      "execution_count": null
    },
    {
      "cell_type": "code",
      "source": "Mad Libs Game\n\ndef mad_libs():\n    print(\"¡Bienvenido al juego de Mad Libs!\")\n\n    name = input(\"Ingresa un nombre: \")\n    verb = input(\"Ingresa un verbo en presente: \")\n    adjective = input(\"Ingresa un adjetivo: \")\n    noun = input(\"Ingresa un sustantivo: \")\n\n   \n    story = f\"Una vez, {name} {verb} en la playa {adjective}. De repente, vio un {noun} gigante.\"\n\n   \n    print(\"\\nAquí está tu historia:\\n\")\n    print(story)\n\nif __name__ == \"__main__\":\n    mad_libs()\n",
      "metadata": {
        "trusted": true
      },
      "outputs": [],
      "execution_count": null
    },
    {
      "cell_type": "code",
      "source": "Word Count\n\nimport csv\nimport string\n\ntranslator = str.maketrans('', '', string.punctuation)\n\nword_count = {}\ntext = open('declaration.txt').read()\n\nwords = text.split()\nfor word in words:\n    word = word.translate(translator).lower()\n    count = word_count.get(word, 0)\n    count += 1\n    word_count[word] = count\n\nword_count_list = sorted(word_count, key=word_count.get, reverse=True)\nfor word in word_count_list[:10]:\n    print(word, word_count[word])\n\noutput_file = open('words.csv', 'w')\nwriter = csv.writer(output_file)\nwriter.writerow(['word', 'count'])\nfor word in word_count_list:\n    writer.writerow([word, word_count[word]])\n",
      "metadata": {
        "trusted": true
      },
      "outputs": [],
      "execution_count": null
    },
    {
      "cell_type": "code",
      "source": "Biography info\n\ndef Nombre():\n    while True:\n        nombre = input(\"¿Cuál es tu nombre?: \")\n        if nombre.strip():\n            return nombre\n        else:\n            print(\"Por favor, ingresa un nombre válido.\")\n\ndef Cumpleaños():\n    while True:\n        cumple = input(\"¿Cuál es tu fecha de nacimiento? (por ejemplo, Jan 1, 2000): \")\n       \n        if cumple.strip(): \n            return cumple\n        else:\n            print(\"Por favor, ingresa una fecha de nacimiento válida.\")\n\ndef Direccion():\n    while True:\n        dire = input(\"¿Cuál es tu dirección?: \")\n        if dire.strip(): \n            return dire\n        else:\n            print(\"Por favor, ingresa una dirección válida.\")\n\ndef metas_personales():\n    while True:\n        metas = input(\"¿Cuáles son tus metas personales?: \")\n        if metas.strip():  \n            return metas\n        else:\n            print(\"Por favor, ingresa metas válidas.\")\n\ndef main():\n    print(\"Ingresa tus datos:\")\n    nombre = Nombre()\n    cumple = Cumpleaños()\n    dire = Direccion()\n    metas = metas_personales()\n\n   \n    print(\"\\nAqui estan tus datos\")\n    print(\"- Nombre:\", nombre)\n    print(\"- Fecha de nacimiento:\", cumple)\n    print(\"- Dirección:\", dire)\n    print(\"- Metas personales:\", metas)\n\nif __name__ == \"__main__\":\n    main()\n",
      "metadata": {
        "trusted": true
      },
      "outputs": [],
      "execution_count": null
    },
    {
      "cell_type": "code",
      "source": "What's my acronym?\n\ndef Acronimo(phrase):\n   \n    words = phrase.split()\n    acronimo = \"\"\n\n    for word in words:\n        acronimo += word[0].upper()\n\n    return acronimo\n\ndef main():\n    \n    full_meaning = input(\"Ingresa el concepto \")\n\n   \n    acronimo = Acronimo(full_meaning)\n\n\n    print(\"El acrónimo para '{}' es: {}\".format(full_meaning, acronimo))\n\nif __name__ == \"__main__\":\n    main()\n",
      "metadata": {
        "trusted": true
      },
      "outputs": [],
      "execution_count": null
    },
    {
      "cell_type": "code",
      "source": "Rock, Paper, Scissors\n\nfrom random import randint\n \nchoice = [\"piedra\",\"papel\",\"tijeras\"]\ndef main():\n    computer = choice[randint(0,2)]\n \n    print(\"Bienvenido a piedra papel y tijeras\\n\")\n    player = input(\"Elige: \").lower()\n    print(\"La computadora eligio: \" + computer)\n \n    if player == computer:\n        print(\"Empate\")\n    elif player == \"piedra\" and computer == \"papel\":\n        print(\"Gano la Computadora\")\n    elif player == \"piedra\" and computer == \"tijeras\":\n        print(\"Gano el jugador\")\n    elif player == \"papel\" and computer == \"piedra\":\n        print(\"Gano el jugador\")\n    elif player == \"papel\" and computer == \"tijeras\":\n        print(\"Gano la Computadora\")\n    elif player == \"tijeras\" and computer  == \"piedra\":\n        print(\"Gano la Computadora\")\n    elif player == \"tijeras\" and computer == \"papel\":\n        print(\"Gano el jugador\")\n    elif player == \"end\":\n        StopIteration\n \n    main()\n \nmain()",
      "metadata": {
        "trusted": true
      },
      "outputs": [],
      "execution_count": null
    },
    {
      "cell_type": "code",
      "source": "Guess the number\n\nimport random\n\nnumero = random.randrange(1,50)\nguess = int(input(\"Escribe un numero entre el 1 y el 50: \"))\n\nwhile guess != numero:\n    if guess < numero:\n        print(\"Eligue algo mas arriba\")\n        guess = int(input(\"Escribe un numero entre el 1 y el 50: \"))\n    else:\n         print(\"Eligue algo mas abajo\")\n         guess = int(input(\"Escribe un numero entre el 1 y el 50: \"))\nprint(\"Adivinaste!\")",
      "metadata": {
        "trusted": true
      },
      "outputs": [],
      "execution_count": null
    },
    {
      "cell_type": "code",
      "source": "Is a palindrome\n\ndef obtener_entrada():\n    entrada_bruta = input(\"\\nPor favor, ingresa una palabra, frase u oración \\npara verificar si es un palíndromo: \") \n    cadena_minusculas = entrada_bruta.lower() \n    lista_entrada = list(cadena_minusculas) \n    return lista_entrada\n\ndef quitar_no_alfabeticos(lista_no_limpia): \n    caracteres_no_alfabeticos = [\" \", \"-\", \".\", \",\", \":\", \";\", \"!\", \"?\", \"'\", \"\\\"\"] \n    for caracter in caracteres_no_alfabeticos: \n        if caracter in lista_no_limpia: \n            lista_no_limpia.remove(caracter) \n            return quitar_no_alfabeticos(lista_no_limpia)\n    return lista_no_limpia \n\ndef ejecutar_verificacion_palindromo(lista_original):\n    lista_invertida = lista_original[::-1] \n    if lista_invertida == lista_original: \n        return \"¡El texto que has ingresado es un palíndromo!\" \n    else: \n        return \"El texto que has ingresado no es un palíndromo.\" \n\ndef main(): \n    print(\"\\nVerificador de palíndromos\") \n    lista_original = obtener_entrada()  \n    lista_original = quitar_no_alfabeticos(lista_original) \n    resultado_palindromo = ejecutar_verificacion_palindromo(lista_original)\n    print(resultado_palindromo)\n\nif __name__ == \"__main__\":\n    main()\n",
      "metadata": {
        "trusted": true
      },
      "outputs": [],
      "execution_count": null
    },
    {
      "cell_type": "code",
      "source": "Calculate the tip\n\ndef calcular_propina(total_factura):\n    propina_18 = total_factura * 0.18\n    propina_20 = total_factura * 0.20\n    propina_25 = total_factura * 0.25\n\n    return propina_18, propina_20, propina_25\n\ndef main():\n    total_factura = float(input(\"¿Cuál es el total de la factura de hoy, por favor?: $\"))\n\n    propina_18, propina_20, propina_25 = calcular_propina(total_factura)\n\n    print(f\"\\nPropina del 18% es: ${propina_18:.2f}, lo que hace un total de: ${total_factura + propina_18:.2f}\")\n    print(f\"Propina del 20% es: ${propina_20:.2f}, lo que hace un total de: ${total_factura + propina_20:.2f}\")\n    print(f\"Propina del 25% es: ${propina_25:.2f}, lo que hace un total de: ${total_factura + propina_25:.2f}\")\n\n    personas = int(input(\"\\n¿Cuántas personas están involucradas?: \"))\n    tipo_division = input(\"¿Deseas dividir la propina y el costo total de manera equitativa o desigual? (equitativa/desigual): \").lower()\n\n    if tipo_division == 'equitativa':  # División equitativa\n        propina_por_persona = total_factura / personas\n        total_por_persona = (total_factura + propina_18) / personas\n        print(f\"\\nCada persona debería pagar ${propina_por_persona:.2f} como propina y ${total_por_persona:.2f} en total.\")\n    elif tipo_division == 'desigual':  # División desigual\n        porcentaje = float(input(\"Por favor, ingresa el porcentaje que pagará una persona (sin el signo de porcentaje): \"))\n        porcentaje /= 100\n        total_factura_1 = total_factura * porcentaje\n        total_factura_2 = total_factura - total_factura_1\n        propina_18_1 = propina_18 * porcentaje\n        propina_18_2 = propina_18 - propina_18_1\n        print(f\"\\nLa primera persona debe pagar ${total_factura_1 + propina_18_1:.2f} en total, incluyendo ${propina_18_1:.2f} de propina.\")\n        print(f\"La segunda persona debe pagar ${total_factura_2 + propina_18_2:.2f} en total, incluyendo ${propina_18_2:.2f} de propina.\")\n    else:\n        print(\"Opción no válida. Por favor, selecciona 'equitativa' para dividir equitativamente o 'desigual' para dividir desigualmente.\")\n\nif __name__ == \"__main__\":\n    main()\n",
      "metadata": {
        "trusted": true
      },
      "outputs": [],
      "execution_count": null
    },
    {
      "cell_type": "code",
      "source": "Email slicer\n\ncorreo_electronico = input(\"¿Cuál es tu dirección de correo electrónico?: \").strip()\n\nnombre_usuario = correo_electronico[:correo_electronico.index(\"@\")]\n\nnombre_dominio = correo_electronico[correo_electronico.index(\"@\")+1:]\n\nresultado = \"Tu nombre de usuario es '{}' y tu nombre de dominio es '{}'\".format(nombre_usuario, nombre_dominio)\n\nprint(resultado)\n",
      "metadata": {
        "trusted": true
      },
      "outputs": [],
      "execution_count": null
    }
  ]
}